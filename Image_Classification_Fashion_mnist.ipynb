{
  "nbformat": 4,
  "nbformat_minor": 0,
  "metadata": {
    "colab": {
      "name": "Image_Classification_Fashion_mnist.ipynb",
      "provenance": [],
      "collapsed_sections": []
    },
    "kernelspec": {
      "name": "python3",
      "display_name": "Python 3"
    },
    "language_info": {
      "name": "python"
    },
    "accelerator": "GPU"
  },
  "cells": [
    {
      "cell_type": "code",
      "metadata": {
        "id": "j_sld4YBgBKZ"
      },
      "source": [
        "import random\n",
        "import numpy as np\n",
        "import matplotlib.pyplot as plt\n",
        "import cv2\n",
        "\n",
        "from keras.datasets import fashion_mnist\n",
        "from keras.utils.np_utils import to_categorical\n",
        "from keras.models import Sequential\n",
        "from keras.layers import Dense, Flatten, Conv2D, MaxPooling2D, Dropout\n",
        "from keras.optimizers import Adam"
      ],
      "execution_count": 35,
      "outputs": []
    },
    {
      "cell_type": "code",
      "metadata": {
        "id": "TJrTl-l4sHVE"
      },
      "source": [
        "def get_label(input_class):\n",
        "  num = int(input_class)\n",
        "  if num == 0:\n",
        "    return \"T-Shirt/Top\"\n",
        "  elif num == 1:\n",
        "    return \"Trouser\"\n",
        "  elif num == 2:\n",
        "    return \"Pullover\"\n",
        "  elif num == 3:\n",
        "    return \"Dress\"\n",
        "  elif num == 4:\n",
        "    return \"Coat\"\n",
        "  elif num == 5:\n",
        "    return \"Sandal\"\n",
        "  elif num == 6:\n",
        "    return \"Shirt\"\n",
        "  elif num == 7:\n",
        "    return \"Sneakers\"\n",
        "  elif num == 8:\n",
        "    return \"Bag\"\n",
        "  elif num == 9:\n",
        "    return \"Ankle Boot\""
      ],
      "execution_count": null,
      "outputs": []
    },
    {
      "cell_type": "code",
      "metadata": {
        "id": "vomFR7UkgdgT"
      },
      "source": [
        "(X_train, y_train),(X_test, y_test) = fashion_mnist.load_data()"
      ],
      "execution_count": 37,
      "outputs": []
    },
    {
      "cell_type": "code",
      "metadata": {
        "colab": {
          "base_uri": "https://localhost:8080/"
        },
        "id": "EOxXljX3gpgB",
        "outputId": "a1beef75-e4fa-4a14-e814-12fcb08daebb"
      },
      "source": [
        "print(\"The size of X_train is: {} and Y_train is: {}\".format(X_train.shape,y_train.shape))"
      ],
      "execution_count": 38,
      "outputs": [
        {
          "output_type": "stream",
          "text": [
            "The size of X_train is: (60000, 28, 28) and Y_train is: (60000,)\n"
          ],
          "name": "stdout"
        }
      ]
    },
    {
      "cell_type": "code",
      "metadata": {
        "colab": {
          "base_uri": "https://localhost:8080/",
          "height": 314
        },
        "id": "I6H7lbNRg4iz",
        "outputId": "b46e0192-8f22-4ba2-a737-b39a58c8ca2e"
      },
      "source": [
        "plt.imshow(X_train[0])\n",
        "plt.title('Class: {}'.format(y_train[0]))\n",
        "plt.figure()"
      ],
      "execution_count": 39,
      "outputs": [
        {
          "output_type": "execute_result",
          "data": {
            "text/plain": [
              "<Figure size 432x288 with 0 Axes>"
            ]
          },
          "metadata": {
            "tags": []
          },
          "execution_count": 39
        },
        {
          "output_type": "display_data",
          "data": {
            "image/png": "[encoded data removed]",
            "text/plain": [
              "<Figure size 432x288 with 1 Axes>"
            ]
          },
          "metadata": {
            "tags": [],
            "needs_background": "light"
          }
        },
        {
          "output_type": "display_data",
          "data": {
            "text/plain": [
              "<Figure size 432x288 with 0 Axes>"
            ]
          },
          "metadata": {
            "tags": []
          }
        }
      ]
    },
    {
      "cell_type": "code",
      "metadata": {
        "id": "NADOqbOwia8Q"
      },
      "source": [
        "#preprocessing for the dataset\n",
        "inp_shape = 28\n",
        "batch_size = 32\n",
        "#10 classes for the dataset\n",
        "n_class = 10\n",
        "\n",
        "input_shape = (inp_shape, inp_shape,1)\n",
        "\n",
        "#normalization of the image\n",
        "X_train = X_train/255\n",
        "X_train = X_train.astype(np.float)\n",
        "\n",
        "X_test = X_test/255\n",
        "X_test = X_test.astype(np.float)"
      ],
      "execution_count": 40,
      "outputs": []
    },
    {
      "cell_type": "code",
      "metadata": {
        "colab": {
          "base_uri": "https://localhost:8080/"
        },
        "id": "LzYPhb21j3CB",
        "outputId": "ffda5600-7395-4228-9b6a-53369d04c026"
      },
      "source": [
        "X_train.shape"
      ],
      "execution_count": 41,
      "outputs": [
        {
          "output_type": "execute_result",
          "data": {
            "text/plain": [
              "(60000, 28, 28)"
            ]
          },
          "metadata": {
            "tags": []
          },
          "execution_count": 41
        }
      ]
    },
    {
      "cell_type": "code",
      "metadata": {
        "id": "V8yvhiLrj48I"
      },
      "source": [
        "#changing the model to fit into the CNN model\n",
        "X_train = X_train.reshape(X_train.shape[0], inp_shape, inp_shape, 1)\n",
        "X_test = X_test.reshape(X_test.shape[0], inp_shape, inp_shape, 1)"
      ],
      "execution_count": 42,
      "outputs": []
    },
    {
      "cell_type": "code",
      "metadata": {
        "colab": {
          "base_uri": "https://localhost:8080/"
        },
        "id": "qpAfcXHwkWTn",
        "outputId": "7a2e1494-7859-45c4-f689-5ef1f2810dda"
      },
      "source": [
        "X_train.shape"
      ],
      "execution_count": 43,
      "outputs": [
        {
          "output_type": "execute_result",
          "data": {
            "text/plain": [
              "(60000, 28, 28, 1)"
            ]
          },
          "metadata": {
            "tags": []
          },
          "execution_count": 43
        }
      ]
    },
    {
      "cell_type": "code",
      "metadata": {
        "id": "-3mI4DDYkYma"
      },
      "source": [
        "y_train = to_categorical(y_train, n_class)\n",
        "y_test = to_categorical(y_test, n_class)"
      ],
      "execution_count": 44,
      "outputs": []
    },
    {
      "cell_type": "code",
      "metadata": {
        "colab": {
          "base_uri": "https://localhost:8080/"
        },
        "id": "L1VajlvzliZh",
        "outputId": "4287fa8f-13d6-445d-ab18-c144f5725e83"
      },
      "source": [
        "y_train.shape"
      ],
      "execution_count": 45,
      "outputs": [
        {
          "output_type": "execute_result",
          "data": {
            "text/plain": [
              "(60000, 10)"
            ]
          },
          "metadata": {
            "tags": []
          },
          "execution_count": 45
        }
      ]
    },
    {
      "cell_type": "code",
      "metadata": {
        "id": "yElmOhK-lk-T"
      },
      "source": [
        "#Adding the CNN model\n",
        "model = Sequential()\n",
        "\n",
        "#First Convolutional Layer\n",
        "model.add(Conv2D(filters=32, kernel_size=(3,3), activation=\"relu\", input_shape = input_shape))\n",
        "model.add(Conv2D(filters=64, kernel_size=(3,3), activation=\"relu\"))\n",
        "model.add(MaxPooling2D(pool_size=(2,2)))\n",
        "\n",
        "#2nd Convolutional Layer\n",
        "model.add(Conv2D(filters=64, kernel_size=(3,3), activation=\"relu\"))\n",
        "model.add(Conv2D(filters=128, kernel_size=(3,3), activation=\"relu\"))\n",
        "model.add(MaxPooling2D(pool_size=(2,2)))\n",
        "\n",
        "#3rd Convolutional Layer\n",
        "model.add(Conv2D(filters=50, kernel_size=(3,3), activation=\"relu\"))\n",
        "model.add(MaxPooling2D(pool_size=(2,2)))\n",
        "\n",
        "model.add(Flatten())\n",
        "\n",
        "model.add(Dense(units = 1024, activation = \"relu\"))\n",
        "model.add(Dense(units = 128, activation = \"relu\"))\n",
        "\n",
        "model.add(Dense(units = n_class, activation = \"softmax\"))"
      ],
      "execution_count": 46,
      "outputs": []
    },
    {
      "cell_type": "code",
      "metadata": {
        "colab": {
          "base_uri": "https://localhost:8080/"
        },
        "id": "GqxXM1g_nfYt",
        "outputId": "c0e495db-13c1-4153-9d8a-07fa37304baa"
      },
      "source": [
        "model.compile(Adam(lr = 0.001), loss = \"categorical_crossentropy\", metrics = [\"acc\"])\n",
        "model.summary()"
      ],
      "execution_count": 47,
      "outputs": [
        {
          "output_type": "stream",
          "text": [
            "Model: \"sequential_3\"\n",
            "_________________________________________________________________\n",
            "Layer (type)                 Output Shape              Param #   \n",
            "=================================================================\n",
            "conv2d_15 (Conv2D)           (None, 26, 26, 32)        320       \n",
            "_________________________________________________________________\n",
            "conv2d_16 (Conv2D)           (None, 24, 24, 64)        18496     \n",
            "_________________________________________________________________\n",
            "max_pooling2d_9 (MaxPooling2 (None, 12, 12, 64)        0         \n",
            "_________________________________________________________________\n",
            "conv2d_17 (Conv2D)           (None, 10, 10, 64)        36928     \n",
            "_________________________________________________________________\n",
            "conv2d_18 (Conv2D)           (None, 8, 8, 128)         73856     \n",
            "_________________________________________________________________\n",
            "max_pooling2d_10 (MaxPooling (None, 4, 4, 128)         0         \n",
            "_________________________________________________________________\n",
            "conv2d_19 (Conv2D)           (None, 2, 2, 50)          57650     \n",
            "_________________________________________________________________\n",
            "max_pooling2d_11 (MaxPooling (None, 1, 1, 50)          0         \n",
            "_________________________________________________________________\n",
            "flatten_3 (Flatten)          (None, 50)                0         \n",
            "_________________________________________________________________\n",
            "dense_9 (Dense)              (None, 1024)              52224     \n",
            "_________________________________________________________________\n",
            "dense_10 (Dense)             (None, 128)               131200    \n",
            "_________________________________________________________________\n",
            "dense_11 (Dense)             (None, 10)                1290      \n",
            "=================================================================\n",
            "Total params: 371,964\n",
            "Trainable params: 371,964\n",
            "Non-trainable params: 0\n",
            "_________________________________________________________________\n"
          ],
          "name": "stdout"
        }
      ]
    },
    {
      "cell_type": "code",
      "metadata": {
        "colab": {
          "base_uri": "https://localhost:8080/"
        },
        "id": "I8qOgEjdnxCO",
        "outputId": "a66a6522-06ea-42bf-d0cf-4b5e936c443a"
      },
      "source": [
        "h = model.fit(X_train, y_train, validation_split = 0.2, epochs = 10, verbose = 1, batch_size = batch_size, shuffle = True)\n"
      ],
      "execution_count": 48,
      "outputs": [
        {
          "output_type": "stream",
          "text": [
            "Epoch 1/10\n",
            "1500/1500 [==============================] - 8s 5ms/step - loss: 0.8338 - acc: 0.6779 - val_loss: 0.3888 - val_acc: 0.8577\n",
            "Epoch 2/10\n",
            "1500/1500 [==============================] - 7s 5ms/step - loss: 0.3638 - acc: 0.8667 - val_loss: 0.3272 - val_acc: 0.8793\n",
            "Epoch 3/10\n",
            "1500/1500 [==============================] - 7s 5ms/step - loss: 0.2889 - acc: 0.8936 - val_loss: 0.2939 - val_acc: 0.8978\n",
            "Epoch 4/10\n",
            "1500/1500 [==============================] - 7s 5ms/step - loss: 0.2481 - acc: 0.9097 - val_loss: 0.2890 - val_acc: 0.8975\n",
            "Epoch 5/10\n",
            "1500/1500 [==============================] - 7s 5ms/step - loss: 0.2276 - acc: 0.9176 - val_loss: 0.2736 - val_acc: 0.9027\n",
            "Epoch 6/10\n",
            "1500/1500 [==============================] - 7s 5ms/step - loss: 0.2078 - acc: 0.9246 - val_loss: 0.2684 - val_acc: 0.9097\n",
            "Epoch 7/10\n",
            "1500/1500 [==============================] - 7s 5ms/step - loss: 0.1933 - acc: 0.9285 - val_loss: 0.2517 - val_acc: 0.9133\n",
            "Epoch 8/10\n",
            "1500/1500 [==============================] - 7s 5ms/step - loss: 0.1713 - acc: 0.9376 - val_loss: 0.2545 - val_acc: 0.9125\n",
            "Epoch 9/10\n",
            "1500/1500 [==============================] - 7s 5ms/step - loss: 0.1555 - acc: 0.9431 - val_loss: 0.2671 - val_acc: 0.9131\n",
            "Epoch 10/10\n",
            "1500/1500 [==============================] - 7s 5ms/step - loss: 0.1446 - acc: 0.9464 - val_loss: 0.2708 - val_acc: 0.9085\n"
          ],
          "name": "stdout"
        }
      ]
    },
    {
      "cell_type": "code",
      "metadata": {
        "colab": {
          "base_uri": "https://localhost:8080/"
        },
        "id": "g9dwuxALoMUc",
        "outputId": "f7e416ad-0b5f-401c-8e4a-1345e904f505"
      },
      "source": [
        "score = model.evaluate(X_test, y_test)"
      ],
      "execution_count": 49,
      "outputs": [
        {
          "output_type": "stream",
          "text": [
            "313/313 [==============================] - 1s 3ms/step - loss: 0.2988 - acc: 0.9007\n"
          ],
          "name": "stdout"
        }
      ]
    },
    {
      "cell_type": "code",
      "metadata": {
        "colab": {
          "base_uri": "https://localhost:8080/"
        },
        "id": "nneeQRMhodB1",
        "outputId": "8801d6b4-a3d8-4220-9bc2-eb6d003ed819"
      },
      "source": [
        "print(\"Test Loss is: \", score[0])\n",
        "print(\"Test Accuracy is: \", score[1])"
      ],
      "execution_count": 50,
      "outputs": [
        {
          "output_type": "stream",
          "text": [
            "Test Loss is:  0.29879438877105713\n",
            "Test Accuracy is:  0.9006999731063843\n"
          ],
          "name": "stdout"
        }
      ]
    },
    {
      "cell_type": "code",
      "metadata": {
        "colab": {
          "base_uri": "https://localhost:8080/",
          "height": 295
        },
        "id": "447Uqqr7om2H",
        "outputId": "06c2b067-f4d9-41b9-9dcf-18eef4098daf"
      },
      "source": [
        "plt.plot(h.history[\"acc\"])\n",
        "plt.plot(h.history[\"val_acc\"])\n",
        "plt.xlabel(\"epochs\")\n",
        "plt.legend([\"acc\",\"val_acc\"])\n",
        "plt.title(\"Accuracy\")\n",
        "plt.show()"
      ],
      "execution_count": 51,
      "outputs": [
        {
          "output_type": "display_data",
          "data": {
            "image/png": "[encoded data removed]",
            "text/plain": [
              "<Figure size 432x288 with 1 Axes>"
            ]
          },
          "metadata": {
            "tags": [],
            "needs_background": "light"
          }
        }
      ]
    },
    {
      "cell_type": "code",
      "metadata": {
        "colab": {
          "base_uri": "https://localhost:8080/",
          "height": 295
        },
        "id": "Tnj5hIKgpKZs",
        "outputId": "d6c87185-74ec-48bf-c9e7-1c8fbb8e3551"
      },
      "source": [
        "plt.plot(h.history[\"loss\"])\n",
        "plt.plot(h.history[\"val_loss\"])\n",
        "plt.xlabel(\"epochs\")\n",
        "plt.legend([\"loss\",\"val_loss\"])\n",
        "plt.title(\"Loss\")\n",
        "plt.show()"
      ],
      "execution_count": 52,
      "outputs": [
        {
          "output_type": "display_data",
          "data": {
            "image/png": "[encoded data removed]",
            "text/plain": [
              "<Figure size 432x288 with 1 Axes>"
            ]
          },
          "metadata": {
            "tags": [],
            "needs_background": "light"
          }
        }
      ]
    },
    {
      "cell_type": "code",
      "metadata": {
        "colab": {
          "base_uri": "https://localhost:8080/",
          "height": 1000
        },
        "id": "-VyrUo25sIXF",
        "outputId": "7cbf7d80-5151-43be-a505-7be4999c08ce"
      },
      "source": [
        "from google.colab.patches import cv2_imshow\n",
        "\n",
        "for i in range(0,10):\n",
        "  print(\"\\n \"+str(i+1))\n",
        "  random_num = np.random.randint(0, len(X_test))\n",
        "  input_im =  X_test[random_num]\n",
        "\n",
        "  the_image = input_im*255\n",
        "  the_image = cv2. resize(the_image, (128, 128))\n",
        "  cv2_imshow(the_image)\n",
        "\n",
        "  actual = y_test[random_num].argmax(axis=0)\n",
        "  imageL = cv2.resize(input_im, None, fx = 10, fy = 10, interpolation = cv2.INTER_CUBIC)\n",
        "  input_im = input_im.reshape(1,28,28,1)\n",
        "  res = str(np.argmax(model.predict(input_im), axis=-1)[0])\n",
        "  print(\"Actual Class:\", get_label(actual))\n",
        "  print(\"Predicted Class:\", get_label(res))"
      ],
      "execution_count": 84,
      "outputs": [
        {
          "output_type": "stream",
          "text": [
            "\n",
            " 1\n"
          ],
          "name": "stdout"
        },
        {
          "output_type": "display_data",
          "data": {
            "image/png": "[encoded data removed]",
            "text/plain": [
              "<PIL.Image.Image image mode=L size=128x128 at 0x7FB5D4634290>"
            ]
          },
          "metadata": {
            "tags": []
          }
        },
        {
          "output_type": "stream",
          "text": [
            "Actual Class: Dress\n",
            "Predicted Class: Dress\n",
            "\n",
            " 2\n"
          ],
          "name": "stdout"
        },
        {
          "output_type": "display_data",
          "data": {
            "image/png": "[encoded data removed]",
            "text/plain": [
              "<PIL.Image.Image image mode=L size=128x128 at 0x7FB5FE847A50>"
            ]
          },
          "metadata": {
            "tags": []
          }
        },
        {
          "output_type": "stream",
          "text": [
            "Actual Class: Shirt\n",
            "Predicted Class: Shirt\n",
            "\n",
            " 3\n"
          ],
          "name": "stdout"
        },
        {
          "output_type": "display_data",
          "data": {
            "image/png": "[encoded data removed]",
            "text/plain": [
              "<PIL.Image.Image image mode=L size=128x128 at 0x7FB544C0FC10>"
            ]
          },
          "metadata": {
            "tags": []
          }
        },
        {
          "output_type": "stream",
          "text": [
            "Actual Class: Bag\n",
            "Predicted Class: Bag\n",
            "\n",
            " 4\n"
          ],
          "name": "stdout"
        },
        {
          "output_type": "display_data",
          "data": {
            "image/png": "[encoded data removed]",
            "text/plain": [
              "<PIL.Image.Image image mode=L size=128x128 at 0x7FB5F0250150>"
            ]
          },
          "metadata": {
            "tags": []
          }
        },
        {
          "output_type": "stream",
          "text": [
            "Actual Class: T-Shirt/Top\n",
            "Predicted Class: Shirt\n",
            "\n",
            " 5\n"
          ],
          "name": "stdout"
        },
        {
          "output_type": "display_data",
          "data": {
            "image/png": "[encoded data removed]",
            "text/plain": [
              "<PIL.Image.Image image mode=L size=128x128 at 0x7FB5D4180A90>"
            ]
          },
          "metadata": {
            "tags": []
          }
        },
        {
          "output_type": "stream",
          "text": [
            "Actual Class: Shirt\n",
            "Predicted Class: Shirt\n",
            "\n",
            " 6\n"
          ],
          "name": "stdout"
        },
        {
          "output_type": "display_data",
          "data": {
            "image/png": "[encoded data removed]",
            "text/plain": [
              "<PIL.Image.Image image mode=L size=128x128 at 0x7FB5D46532D0>"
            ]
          },
          "metadata": {
            "tags": []
          }
        },
        {
          "output_type": "stream",
          "text": [
            "Actual Class: Dress\n",
            "Predicted Class: Dress\n",
            "\n",
            " 7\n"
          ],
          "name": "stdout"
        },
        {
          "output_type": "display_data",
          "data": {
            "image/png": "[encoded data removed]",
            "text/plain": [
              "<PIL.Image.Image image mode=L size=128x128 at 0x7FB5D4634A90>"
            ]
          },
          "metadata": {
            "tags": []
          }
        },
        {
          "output_type": "stream",
          "text": [
            "Actual Class: Trouser\n",
            "Predicted Class: Trouser\n",
            "\n",
            " 8\n"
          ],
          "name": "stdout"
        },
        {
          "output_type": "display_data",
          "data": {
            "image/png": "[encoded data removed]",
            "text/plain": [
              "<PIL.Image.Image image mode=L size=128x128 at 0x7FB5FEEDC450>"
            ]
          },
          "metadata": {
            "tags": []
          }
        },
        {
          "output_type": "stream",
          "text": [
            "Actual Class: Coat\n",
            "Predicted Class: Coat\n",
            "\n",
            " 9\n"
          ],
          "name": "stdout"
        },
        {
          "output_type": "display_data",
          "data": {
            "image/png": "[encoded data removed]",
            "text/plain": [
              "<PIL.Image.Image image mode=L size=128x128 at 0x7FB5FE9B3D10>"
            ]
          },
          "metadata": {
            "tags": []
          }
        },
        {
          "output_type": "stream",
          "text": [
            "Actual Class: Sandal\n",
            "Predicted Class: Sandal\n",
            "\n",
            " 10\n"
          ],
          "name": "stdout"
        },
        {
          "output_type": "display_data",
          "data": {
            "image/png": "[encoded data removed]",
            "text/plain": [
              "<PIL.Image.Image image mode=L size=128x128 at 0x7FB5FE9B3D10>"
            ]
          },
          "metadata": {
            "tags": []
          }
        },
        {
          "output_type": "stream",
          "text": [
            "Actual Class: Pullover\n",
            "Predicted Class: Pullover\n"
          ],
          "name": "stdout"
        }
      ]
    },
    {
      "cell_type": "code",
      "metadata": {
        "id": "1BUjkGc5yTHJ"
      },
      "source": [
        ""
      ],
      "execution_count": null,
      "outputs": []
    }
  ]
}